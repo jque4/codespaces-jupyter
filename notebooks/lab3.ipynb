{
  "cells": [
    {
      "attachments": {},
      "cell_type": "markdown",
      "metadata": {
        "id": "qIRdAjCynKxt"
      },
      "source": [
        "<H1>COMP216 Lab 3</h1>"
      ]
    },
    {
      "attachments": {},
      "cell_type": "markdown",
      "metadata": {
        "id": "lJ0h4EvZnKxx"
      },
      "source": [
        "<h5> Please insert your name, student number, course and date </h5>\n",
        "\n",
        "\n",
        "#Name: Jack\n",
        "\n",
        "#Student number: 301220028\n",
        "\n",
        "#Course: COMP 216\n",
        "\n",
        "#Date: 2023-01-30"
      ]
    },
    {
      "attachments": {},
      "cell_type": "markdown",
      "metadata": {
        "id": "PyxdDqXTnKxy"
      },
      "source": [
        "\n",
        "\n",
        "<h3>Instructions</h3>\n",
        "\n",
        "This is an individual lab. Using a jupyter notebook (best done on google colab) write the python statement to define a Shopper class. The test harness is provided to you by the instructor as well as the resulting output given. \n",
        "\n",
        "<h4>How to do this assignment.</h4>\n",
        "From the above description and test harness and the result output below, try to deduce the definition of the Shopper class. Code this class in a jupyter notebook and copy the test harness to a cell below. Execute the notebook and ensure that the output matches EXACTLY with the output on the following page.\n",
        "You must use python f-strings for your output.\n",
        "\n",
        "\n",
        "<h4>Documentation.</h4>\n",
        "Because the code is so simple no code documentation is required, however you must put your name and the current date somewhere at the top of your code.\n",
        "\n",
        "<h4>How to submit this assignment.</h4>\n",
        "Make the notebook shareable and submit the link to the course dropbox.\n",
        "See the course documentation on deadlines."
      ]
    },
    {
      "cell_type": "code",
      "execution_count": 63,
      "metadata": {},
      "outputs": [],
      "source": [
        "# Jack\n",
        "# 2023-01-30\n",
        "class Shopper:\n",
        "    __prices = { 'apple': 1.99, 'bread': 2.19, 'milk': 4.96, 'pepper': 1.25 }\n",
        "    __sale_items = 'pepper banana'.split()\n",
        "    __credit_threshold = 6\n",
        "    __default_price = 2.50\n",
        "    __volume_discount = 0.9\n",
        "    __sales_discount = 0.85\n",
        "\n",
        "    @property\n",
        "    def name(self):\n",
        "        return self.__name\n",
        "    @name.setter\n",
        "    def name(self, name):\n",
        "        self.__name = name\n",
        "    \n",
        "    def __init__(self, name, balance):\n",
        "        self.name = name\n",
        "        self.__balance = balance\n",
        "        self.__purchases = []\n",
        "\n",
        "    def price_list():\n",
        "        return Shopper.__prices\n",
        "\n",
        "    def sale_items():\n",
        "        return [' '.join(Shopper.__sale_items)]\n",
        "\n",
        "    def purchase(self, items):\n",
        "        totalprice = 0\n",
        "        for i in items:\n",
        "            if i in Shopper.__prices:\n",
        "                itemprice = Shopper.__prices.get(i)\n",
        "            else:\n",
        "                itemprice = self.__default_price\n",
        "            if i in self.__sale_items:\n",
        "                itemprice *= self.__sales_discount\n",
        "            self.__purchases.append((i, itemprice))\n",
        "            totalprice += itemprice\n",
        "        if totalprice > self.__credit_threshold:\n",
        "            totalprice *= self.__volume_discount\n",
        "        self.__balance -= totalprice\n",
        "\n",
        "    def __str__(self):\n",
        "        return f\"{self.name} cash in hand ${self.__balance:.2f}\\n  items:\\n  {self.__purchases}\"\n"
      ]
    },
    {
      "cell_type": "markdown",
      "metadata": {},
      "source": [
        "\n",
        "<h3>The test harness</h3>\n",
        "You may not change the test harness.\n",
        "\n",
        "\n",
        "\n",
        "\n",
        " "
      ]
    },
    {
      "cell_type": "code",
      "execution_count": 64,
      "metadata": {
        "id": "ajRvcINZnKxy"
      },
      "outputs": [
        {
          "name": "stdout",
          "output_type": "stream",
          "text": [
            "Price dict: {'apple': 1.99, 'bread': 2.19, 'milk': 4.96, 'pepper': 1.25}\n",
            "Sales list: ['pepper banana']\n",
            "\n",
            "Narendra cash in hand $20.00\n",
            "  items:\n",
            "  []\n",
            "\n",
            "Narendra is purchasing: ['bread', 'milk']\n",
            "Narendra cash in hand $13.56\n",
            "  items:\n",
            "  [('bread', 2.19), ('milk', 4.96)]\n",
            "\n",
            "Narendra is purchasing: ['apple', 'pepper', 'cauliflower']\n",
            "Narendra cash in hand $8.01\n",
            "  items:\n",
            "  [('bread', 2.19), ('milk', 4.96), ('apple', 1.99), ('pepper', 1.0625), ('cauliflower', 2.5)]\n",
            "\n",
            "Public members of the class: ['name', 'price_list', 'purchase', 'sale_items']\n",
            "Public properties: ['name']\n",
            "Public methods: ['price_list', 'purchase', 'sale_items']\n"
          ]
        }
      ],
      "source": [
        "print(f'Price dict: {Shopper.price_list()}')\n",
        "print(f'Sales list: {Shopper.sale_items()}')\n",
        "\n",
        "nar = Shopper('Narendra', 20)     #create a shopper object\n",
        "print(f'\\n{nar}')                 #display the object\n",
        "\n",
        "items = 'bread milk'.split()      #list of items to buy\n",
        "print(f'\\n{nar.name} is purchasing: {items}')\n",
        "nar.purchase(items)               #buy the items\n",
        "print(f'{nar}')                   #display the object\n",
        "\n",
        "items = 'apple pepper cauliflower'.split()\n",
        "print(f'\\n{nar.name} is purchasing: {items}')\n",
        "nar.purchase(items)\n",
        "print(f'{nar}')                   #display the object\n",
        "\n",
        "#you don't need to understand the code below\n",
        "#it is for verification purposes\n",
        "members = [member for member in dir(Shopper) if not member.startswith('_')]\n",
        "print(f'\\nPublic members of the class: {members}')\n",
        "properties = [member for member in members if not callable(getattr(Shopper, member))]\n",
        "print(f'Public properties: {properties}')   \n",
        "methods = [member for member in members if callable(getattr(Shopper, member))]\n",
        "print(f'Public methods: {methods}')  \n"
      ]
    },
    {
      "attachments": {},
      "cell_type": "markdown",
      "metadata": {},
      "source": [
        "<h4>The expected output</h4>\n",
        "Your output must be identical to the below."
      ]
    },
    {
      "attachments": {},
      "cell_type": "markdown",
      "metadata": {},
      "source": [
        "```\n",
        "Price dict: {'apple': 1.99, 'bread': 2.19, 'milk': 4.96, 'pepper': 1.25}\n",
        "Sales list: ['pepper banana']\n",
        "\n",
        "Narendra cash in hand $20.00\n",
        "  items:\n",
        "  []\n",
        "\n",
        "Narendra is purchasing: ['bread', 'milk']\n",
        "Narendra cash in hand $13.56\n",
        "  items:\n",
        "  [('bread', 2.19), ('milk', 4.96)]\n",
        "\n",
        "Narendra is purchasing: ['apple', 'pepper', 'cauliflower']\n",
        "Narendra cash in hand $8.01\n",
        "  items:\n",
        "  [('bread', 2.19), ('milk', 4.96), ('apple', 1.99), ('pepper', 1.0625), ('cauliflower', 2.5)]\n",
        "\n",
        "Public members of the class: ['name', 'price_list', 'purchase', 'sale_items']\n",
        "Public properties: ['name']\n",
        "Public methods: ['price_list', 'purchase', 'sale_items']\n",
        "```"
      ]
    }
  ],
  "metadata": {
    "colab": {
      "provenance": []
    },
    "kernelspec": {
      "display_name": "Python 3",
      "language": "python",
      "name": "python3"
    },
    "language_info": {
      "codemirror_mode": {
        "name": "ipython",
        "version": 3
      },
      "file_extension": ".py",
      "mimetype": "text/x-python",
      "name": "python",
      "nbconvert_exporter": "python",
      "pygments_lexer": "ipython3",
      "version": "3.10.4"
    },
    "orig_nbformat": 4,
    "vscode": {
      "interpreter": {
        "hash": "3ad933181bd8a04b432d3370b9dc3b0662ad032c4dfaa4e4f1596c548f763858"
      }
    }
  },
  "nbformat": 4,
  "nbformat_minor": 0
}
