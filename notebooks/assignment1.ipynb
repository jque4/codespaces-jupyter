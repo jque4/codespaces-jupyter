{
  "cells": [
    {
      "attachments": {},
      "cell_type": "markdown",
      "metadata": {
        "id": "qIRdAjCynKxt"
      },
      "source": [
        "<H1>COMP216 Assignment 1</h1>"
      ]
    },
    {
      "attachments": {},
      "cell_type": "markdown",
      "metadata": {
        "id": "lJ0h4EvZnKxx"
      },
      "source": [
        "<h5> Please insert your name, student number, course and date </h5>\n",
        "\n",
        "\n",
        "#Name: Jack\n",
        "\n",
        "#Student number: 301220028\n",
        "\n",
        "#Course: COMP 216\n",
        "\n",
        "#Date: 2023-01-23"
      ]
    },
    {
      "attachments": {},
      "cell_type": "markdown",
      "metadata": {
        "id": "PyxdDqXTnKxy"
      },
      "source": [
        "\n",
        "\n",
        "<h3>Instructions</h3>\n",
        "\n",
        "We will continue working on python. Using a google colab notebook write the python statement to define a Pizza class. The test harness is provided to you by the instructor as well as the resulting output given.\n",
        "\n",
        "<h4>How to do this assignment.</h4>\n",
        "From the test harness and the given output, try to deduce the definition of the Pizza class. Code this class in a colab notebook and copy the test harness to a cell below. Execute the notebook and ensure that the output matches EXACTLY with the output on the following page.\n",
        "You must use python f-strings for your output.\n",
        "\n",
        "Do not modify the test harness.\n",
        "\n",
        "<h4>Documentation.</h4>\n",
        "Please enter your name and the current date somewhere at the top of your code.\n",
        "\n",
        "<h4>How to submit this assignment.</h4>\n",
        "Make the notebook shareable and submit the link to the course assessment folder.\n",
        "See the folder documentation for due date.\n",
        "See the course documentation for policy on deadlines."
      ]
    },
    {
      "cell_type": "code",
      "execution_count": 87,
      "metadata": {},
      "outputs": [],
      "source": [
        "# Jack\n",
        "# 2023-01-26\n",
        "class Pizza:\n",
        "    sizes = {'small': 6.49, 'medium': 8.49, 'large': 10.49, 'x-large': 13.49 + 0.5}\n",
        "    costPerTopping = 0.50\n",
        "    \n",
        "    @property\n",
        "    def price(self):\n",
        "        return self.sizes.get(self.__size) + len(self.__toppings) * self.costPerTopping\n",
        "    \n",
        "    @property\n",
        "    def size(self):\n",
        "        return self.__size\n",
        "    @size.setter\n",
        "    def size(self, value):\n",
        "        if value not in self.sizes:\n",
        "            raise ValueError(f'ERROR: {value} is not a valid size for a pizza ')\n",
        "        else:\n",
        "            self.__size = value\n",
        "    \n",
        "    def __init__(self, size = 'medium', toppings = ['cheese']):\n",
        "        self.size = size\n",
        "        self.__toppings = toppings\n",
        "    \n",
        "    def add(self, toppings):\n",
        "        self.__toppings += toppings\n",
        "\n",
        "    def __str__(self):\n",
        "        return f\"{self.size} pizza with {self.__toppings} for ${self.price}\"\n"
      ]
    },
    {
      "cell_type": "markdown",
      "metadata": {},
      "source": [
        "\n",
        "<h3>The test harness</h3>\n",
        "You may not change the test harness.\n",
        "\n",
        "\n",
        "\n",
        "\n",
        " "
      ]
    },
    {
      "cell_type": "code",
      "execution_count": 88,
      "metadata": {
        "id": "ajRvcINZnKxy"
      },
      "outputs": [
        {
          "name": "stdout",
          "output_type": "stream",
          "text": [
            "Creating a default pizza\n",
            "medium pizza with ['cheese'] for $8.99\n",
            "\n",
            "Adding topping: ['cheese', 'olive']\n",
            "medium pizza with ['cheese', 'cheese', 'olive'] for $9.99\n",
            "\n",
            "Creating a new pizza\n",
            "large pizza with ['cheese', 'pepper'] for $11.49\n",
            "\n",
            "Adding topping: ['pineapple', 'mushroom']\n",
            "large pizza with ['cheese', 'pepper', 'pineapple', 'mushroom'] for $12.49\n",
            "\n",
            "Changing order size to x-large\n",
            "x-large pizza with ['cheese', 'pepper', 'pineapple', 'mushroom'] for $15.99\n",
            "\n",
            "Changing order size to gigantic\n",
            "ERROR: gigantic is not a valid size for a pizza \n"
          ]
        }
      ],
      "source": [
        "\n",
        "print(f'Creating a default pizza')\n",
        "p = Pizza()\n",
        "print(p)\n",
        "\n",
        "toppings = 'cheese olive'.split()\n",
        "print(f'\\nAdding topping: {toppings}')\n",
        "p.add(toppings=toppings)\n",
        "print(p)\n",
        "\n",
        "print(f'\\nCreating a new pizza')\n",
        "p = Pizza('large', 'cheese pepper'.split())\n",
        "print(p)\n",
        "\n",
        "toppings = ['pineapple', 'mushroom']\n",
        "print(f'\\nAdding topping: {toppings}')\n",
        "p.add(toppings)\n",
        "print(p)\n",
        "\n",
        "size = 'x-large'\n",
        "p.size = size\n",
        "print(f'\\nChanging order size to {size}')\n",
        "print(p)\n",
        "\n",
        "size = 'gigantic'\n",
        "print(f'\\nChanging order size to {size}')\n",
        "try:\n",
        "  p.size = size\n",
        "except ValueError as err:\n",
        "  print(err) \n"
      ]
    },
    {
      "attachments": {},
      "cell_type": "markdown",
      "metadata": {},
      "source": [
        "<h4>The expected output</h4>"
      ]
    },
    {
      "attachments": {},
      "cell_type": "markdown",
      "metadata": {},
      "source": [
        "```\n",
        "Creating a default pizza\n",
        "medium pizza with ['cheese'] for $8.99\n",
        "\n",
        "Adding topping: ['cheese', 'olive']\n",
        "medium pizza with ['cheese', 'cheese', 'olive'] for $9.99\n",
        "\n",
        "Creating a new pizza\n",
        "large pizza with ['cheese', 'pepper'] for $11.49\n",
        "\n",
        "Adding topping: ['pineapple']\n",
        "large pizza with ['cheese', 'pepper', 'pineapple', 'mushroom'] for $12.49\n",
        "\n",
        "Changing order size to x-large\n",
        "x-large pizza with ['cheese', 'pepper', 'pineapple', 'mushroom'] for $15.99\n",
        "\n",
        "Changing order size to gigantic\n",
        "ERROR: gigantic is not a valid size for a pizza \n",
        "```"
      ]
    }
  ],
  "metadata": {
    "colab": {
      "provenance": []
    },
    "kernelspec": {
      "display_name": "Python 3",
      "language": "python",
      "name": "python3"
    },
    "language_info": {
      "codemirror_mode": {
        "name": "ipython",
        "version": 3
      },
      "file_extension": ".py",
      "mimetype": "text/x-python",
      "name": "python",
      "nbconvert_exporter": "python",
      "pygments_lexer": "ipython3",
      "version": "3.10.4"
    },
    "orig_nbformat": 4,
    "vscode": {
      "interpreter": {
        "hash": "3ad933181bd8a04b432d3370b9dc3b0662ad032c4dfaa4e4f1596c548f763858"
      }
    }
  },
  "nbformat": 4,
  "nbformat_minor": 0
}
