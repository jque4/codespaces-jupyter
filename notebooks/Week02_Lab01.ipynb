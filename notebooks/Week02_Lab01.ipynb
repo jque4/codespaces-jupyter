{
  "cells": [
    {
      "attachments": {},
      "cell_type": "markdown",
      "metadata": {
        "id": "qIRdAjCynKxt"
      },
      "source": [
        "<H1>COMP216 Week 2 Lab exercise 1</h1>"
      ]
    },
    {
      "attachments": {},
      "cell_type": "markdown",
      "metadata": {
        "id": "lJ0h4EvZnKxx"
      },
      "source": [
        "<h5> Please insert your name, student number, course and date </h5>\n",
        "\n",
        "\n",
        "#Name: Jack\n",
        "\n",
        "#Student number: 301220028\n",
        "\n",
        "#Course: COMP 216\n",
        "\n",
        "#Date: 2023-01-23"
      ]
    },
    {
      "attachments": {},
      "cell_type": "markdown",
      "metadata": {
        "id": "PyxdDqXTnKxy"
      },
      "source": [
        "\n",
        "\n",
        "<h3>Instructions</h3>\n",
        "\n",
        "We will continue working on python. Using a jupyter notebook (best done on google colab) write the python statement to define a Pet class. The test harness is provided to you by the instructor as well as the resulting output given. \n",
        "\n",
        "<h4>How to do this assignment.</h4>\n",
        "From the test harness and the given output, try to deduce the definition of the Pet class. Code this class in a jupyter notebook and copy the test harness to a cell below. Execute the notebook and ensure that the output matches EXACTLY with the output on the following page.\n",
        "You must use python f-strings for your output.\n",
        "\n",
        "<h4>Documentation.</h4>\n",
        "Because the code is so simple no code documentation is required, however you must put your name and the current date somewhere at the top of your code.\n",
        "\n",
        "<h4>How to submit this assignment.</h4>\n",
        "Make the notebook shareable and submit the link to the course dropbox before week three class.\n"
      ]
    },
    {
      "cell_type": "code",
      "execution_count": 16,
      "metadata": {},
      "outputs": [],
      "source": [
        "\n",
        "class Pet:\n",
        "    owner = 'no one'\n",
        "    trained = 'not '\n",
        "\n",
        "    def __init__(self, name, age = 5):\n",
        "        self.name = name\n",
        "        self.age = age\n",
        "    def set_owner(self, ownerName):\n",
        "        self.owner = ownerName\n",
        "    def train(self):\n",
        "        self.trained = ''\n",
        "    def __str__(self):\n",
        "        return f\"Hi I am {self.age}yrs and my name is {self.name}.\\nI am {self.trained}house trained and {self.owner} owns me.\"\n"
      ]
    },
    {
      "cell_type": "markdown",
      "metadata": {},
      "source": [
        "\n",
        "<h3>The test harness</h3>\n",
        "You may not change the test harness.\n",
        "\n",
        "\n",
        "\n",
        "\n",
        " "
      ]
    },
    {
      "cell_type": "code",
      "execution_count": 17,
      "metadata": {
        "id": "ajRvcINZnKxy"
      },
      "outputs": [
        {
          "name": "stdout",
          "output_type": "stream",
          "text": [
            "1:Hi I am 3yrs and my name is Garfield.\n",
            "I am not house trained and no one owns me.\n",
            "2:no one\n",
            "3:Jon\n",
            "4:Hi I am 3yrs and my name is Garfield.\n",
            "I am house trained and Jon owns me.\n",
            "\n",
            "5:Hi I am 3yrs and my name is Garfield.\n",
            "I am house trained and Jon owns me.\n",
            "\n",
            "6:Hi I am 2yrs and my name is Beethoven.\n",
            "I am not house trained and no one owns me.\n",
            "\n",
            "7:Hi I am 5yrs and my name is Jake.\n",
            "I am not house trained and no one owns me.\n",
            "\n",
            "8:Hi I am 7yrs and my name is Stuart.\n",
            "I am not house trained and no one owns me.\n"
          ]
        }
      ],
      "source": [
        "#test harness\n",
        "garfield = Pet('Garfield', 3)\n",
        "x = 1\n",
        "print(f'{x}:{garfield}')\n",
        "x = 2\n",
        "print(f'{x}:{garfield.owner}')\n",
        "\n",
        "garfield.set_owner('Jon')\n",
        "x = 3\n",
        "print(f'{x}:{garfield.owner}')\n",
        "\n",
        "garfield.train()\n",
        "x = 4\n",
        "print(f'{x}:{garfield}')\n",
        "\n",
        "#create a list with about 4 pets\n",
        "pets = [garfield, Pet('Beethoven', 2), Pet('Jake'), Pet('Stuart', 7)]\n",
        "for p in pets:\n",
        "    x += 1\n",
        "    print(f'\\n{x}:{p}')\n"
      ]
    },
    {
      "attachments": {},
      "cell_type": "markdown",
      "metadata": {},
      "source": [
        "<h4>The expected output</h4>"
      ]
    },
    {
      "attachments": {},
      "cell_type": "markdown",
      "metadata": {},
      "source": [
        "```\n",
        "1:Hi I am 3yrs and my name is Garfield.\n",
        "I am not house trained and no one owns me.\n",
        "2:no one\n",
        "3:Jon\n",
        "4:Hi I am 3yrs and my name is Garfield.\n",
        "I am house trained and Jon owns me.\n",
        "\n",
        "5:Hi I am 3yrs and my name is Garfield.\n",
        "I am house trained and Jon owns me.\n",
        "\n",
        "6:Hi I am 2yrs and my name is Beethoven.\n",
        "I am not house trained and no one owns me.\n",
        "\n",
        "7:Hi I am 5yrs and my name is Jake.\n",
        "I am not house trained and no one owns me.\n",
        "\n",
        "8:Hi I am 7yrs and my name is Stuart.\n",
        "I am not house trained and no one owns me.\n",
        "```"
      ]
    }
  ],
  "metadata": {
    "colab": {
      "provenance": []
    },
    "kernelspec": {
      "display_name": "Python 3",
      "language": "python",
      "name": "python3"
    },
    "language_info": {
      "codemirror_mode": {
        "name": "ipython",
        "version": 3
      },
      "file_extension": ".py",
      "mimetype": "text/x-python",
      "name": "python",
      "nbconvert_exporter": "python",
      "pygments_lexer": "ipython3",
      "version": "3.10.4"
    },
    "orig_nbformat": 4,
    "vscode": {
      "interpreter": {
        "hash": "3ad933181bd8a04b432d3370b9dc3b0662ad032c4dfaa4e4f1596c548f763858"
      }
    }
  },
  "nbformat": 4,
  "nbformat_minor": 0
}
