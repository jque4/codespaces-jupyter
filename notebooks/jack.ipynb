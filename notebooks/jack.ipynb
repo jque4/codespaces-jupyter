{
  "cells": [
    {
      "cell_type": "markdown",
      "metadata": {
        "id": "qIRdAjCynKxt"
      },
      "source": [
        "<H1>COMP216 Lab exercise 1</h1>"
      ]
    },
    {
      "attachments": {},
      "cell_type": "markdown",
      "metadata": {
        "id": "lJ0h4EvZnKxx"
      },
      "source": [
        "<h5> Please insert your name, student number, course and date </h5>\n",
        "\n",
        "\n",
        "#Name: Jack\n",
        "\n",
        "#Student number: 301220028\n",
        "\n",
        "#Course: COMP 216\n",
        "\n",
        "#Date: 2023-01-13"
      ]
    },
    {
      "cell_type": "markdown",
      "metadata": {
        "id": "PyxdDqXTnKxy"
      },
      "source": [
        "\n",
        "\n",
        "<h3>Instructions</h3>\n",
        "\n",
        "1. Complete the exercises as far as you possibly can \n",
        "\n",
        "2. Rename the workbook to your first name  \n",
        "\n",
        "3. Make sure that the notebook is shareable\n",
        "\n",
        "4. Upload a link to the Assessment folder in brightspace  \n",
        "\n",
        "5. You code must work even if the original variable changes\n",
        "\n",
        "\n",
        "\n",
        " "
      ]
    },
    {
      "cell_type": "code",
      "execution_count": 117,
      "metadata": {
        "id": "ajRvcINZnKxy"
      },
      "outputs": [],
      "source": [
        "#imports and variables\n",
        "from random import randint\n",
        "\n",
        "pm = 'justin pierre james trudeau'\n",
        "instructor = 'John Doe'\n",
        "harry = \"You've gotta ask yourself a question: how are you today?\"\n",
        "numbers = [randint(5, 10) for _ in range(20)]"
      ]
    },
    {
      "cell_type": "markdown",
      "metadata": {
        "id": "MOPA6UhbnKx0"
      },
      "source": [
        "<h3> Working with sets </h3>"
      ]
    },
    {
      "cell_type": "code",
      "execution_count": 118,
      "metadata": {
        "id": "XTLyxnmQnKx0"
      },
      "outputs": [
        {
          "name": "stdout",
          "output_type": "stream",
          "text": [
            "{' ', 'John', 'Doe'}\n"
          ]
        }
      ],
      "source": [
        "# - 2 mark\n",
        "# create a set from the variable 'instructor' and print it\n",
        "newSet = set(instructor.split())\n",
        "newSet.add(' ')\n",
        "print(newSet)\n"
      ]
    },
    {
      "cell_type": "code",
      "execution_count": 119,
      "metadata": {
        "id": "IHbUClshnKx0"
      },
      "outputs": [],
      "source": [
        "# - 2 mark\n",
        "# use the add() method to add 'z' to the set and print it\n",
        "newSet.add('z')"
      ]
    },
    {
      "cell_type": "code",
      "execution_count": 120,
      "metadata": {
        "id": "2OFlN61xnKx1"
      },
      "outputs": [
        {
          "name": "stdout",
          "output_type": "stream",
          "text": [
            "None\n"
          ]
        }
      ],
      "source": [
        "# - 2 mark\n",
        "#use the remove() method to take ' ' from the set and print it\n",
        "print(newSet.remove(' '))"
      ]
    },
    {
      "cell_type": "code",
      "execution_count": 121,
      "metadata": {
        "id": "g_pr_pPpnKx1"
      },
      "outputs": [
        {
          "name": "stdout",
          "output_type": "stream",
          "text": [
            "{'z', 'y', 'x', 'John', 'Doe'}\n"
          ]
        }
      ],
      "source": [
        "# - 2 mark\n",
        "#use the update() function to add 'x', 'y' and 'z' to the set  and print the result\n",
        "newSet.update({'x', 'y', 'z'})\n",
        "print(newSet)"
      ]
    },
    {
      "cell_type": "code",
      "execution_count": 122,
      "metadata": {
        "id": "OT528-LGnKx2"
      },
      "outputs": [
        {
          "name": "stdout",
          "output_type": "stream",
          "text": [
            "5\n"
          ]
        }
      ],
      "source": [
        "# - 2 mark\n",
        "#use the len() function to get the number of elements in the set and print the result\n",
        "print(len(newSet))"
      ]
    },
    {
      "cell_type": "markdown",
      "metadata": {
        "id": "mZhibx1rnKx2"
      },
      "source": [
        "<h3> Working with tuples </h3>"
      ]
    },
    {
      "cell_type": "code",
      "execution_count": 123,
      "metadata": {
        "id": "EpQDgpIunKx3"
      },
      "outputs": [
        {
          "name": "stdout",
          "output_type": "stream",
          "text": [
            "('justin', 'pierre', 'james', 'trudeau')\n"
          ]
        }
      ],
      "source": [
        "# - 2 mark\n",
        "#create a tuple from the variable pm and print it\n",
        "newTuple = tuple(pm.split())\n",
        "print(newTuple)"
      ]
    },
    {
      "cell_type": "code",
      "execution_count": 124,
      "metadata": {
        "id": "RScD8Ef-nKx3"
      },
      "outputs": [
        {
          "name": "stdout",
          "output_type": "stream",
          "text": [
            "There are 4 e's in the tuple\n",
            "You can find a at index 15 of the tuple\n",
            "There are 27 elements in the tuple\n"
          ]
        }
      ],
      "source": [
        "# - 6 marks\n",
        "# write the statement to produced the following lines of output\n",
        "\n",
        "## There are 4 e's in the tuple                   #use the count() method\n",
        "## You can find a at index 15 of the tuple        #use the index() method\n",
        "## There are 27 elements in the tuple             #use the len() function\n",
        "newTuple = tuple([*(' '.join(newTuple))])\n",
        "print(f'There are {(\"\".join(newTuple)).count(\"e\")} e\\'s in the tuple')\n",
        "print(f'You can find a at index {newTuple.index(\"a\")} of the tuple')\n",
        "print(f'There are {len(newTuple)} elements in the tuple')\n"
      ]
    },
    {
      "cell_type": "code",
      "execution_count": 125,
      "metadata": {
        "id": "JMOwu-7GnKx3"
      },
      "outputs": [
        {
          "name": "stdout",
          "output_type": "stream",
          "text": [
            "s\n",
            "i\n"
          ]
        }
      ],
      "source": [
        "# - 2 mark\n",
        "# use array-like indexing to print the third and fifth element of your tuple\n",
        "print(newTuple[2])\n",
        "print(newTuple[4])"
      ]
    },
    {
      "cell_type": "markdown",
      "metadata": {
        "id": "SfcOXC0tnKx4"
      },
      "source": [
        "<h3> Working with list </h3>"
      ]
    },
    {
      "cell_type": "code",
      "execution_count": 138,
      "metadata": {
        "id": "iP0V9ViznKx4"
      },
      "outputs": [
        {
          "name": "stdout",
          "output_type": "stream",
          "text": [
            "[\"You've\", 'gotta', 'ask', 'yourself', 'a', 'question:', 'how', 'are', 'you', 'today?']\n"
          ]
        }
      ],
      "source": [
        "# - 2 mark\n",
        "# create a list from the variable 'harry' using the split() method \n",
        "# of the string class and print it\n",
        "newList = harry.split()\n",
        "print(newList)"
      ]
    },
    {
      "cell_type": "code",
      "execution_count": 139,
      "metadata": {
        "id": "ygPOKhavnKx4"
      },
      "outputs": [
        {
          "name": "stdout",
          "output_type": "stream",
          "text": [
            "['Clint', \"You've\", 'gotta', 'ask', 'yourself', 'a', 'how', 'are', 'you', 'today?', 'Eastwood']\n"
          ]
        }
      ],
      "source": [
        "# - 4 marks\n",
        "# use the append() method once to add 'Eastwood' to the end of the  list\n",
        "# use the insert() method to add 'Clint' at the start of the  list\n",
        "# use the remove() method to remove 'question' from the list\n",
        "# print the final list\n",
        "newList.append('Eastwood')\n",
        "newList.insert(0, 'Clint')\n",
        "newList.remove('question:')\n",
        "print(newList)"
      ]
    },
    {
      "cell_type": "code",
      "execution_count": 128,
      "metadata": {
        "id": "Y2lIGel_nKx4"
      },
      "outputs": [],
      "source": [
        "# - 4 marks\n",
        "# use the sort() method to order the  list\n",
        "# print the list\n",
        "# use the reverse() method to reverse the list\n",
        "# print the final list"
      ]
    },
    {
      "cell_type": "markdown",
      "metadata": {
        "id": "-fckR6BQnKx5"
      },
      "source": [
        "<h3> Working with dictionary </h3>"
      ]
    },
    {
      "cell_type": "code",
      "execution_count": 129,
      "metadata": {
        "id": "6S-ckDpTnKx5"
      },
      "outputs": [],
      "source": [
        "#use the following dictionary for your exercises\n",
        "d = { \n",
        "    3462: 'Artificial Intelligence', \n",
        "    3468: 'Software Engineering Technician', \n",
        "    3469: 'Software Engineering Technology', \n",
        "    3472: 'Artificial Intelligence (FT)', \n",
        "    3478: 'Software Engineering Technician (FT)', \n",
        "    3528: 'Health Informatics Technology (FT)', \n",
        "    3609: 'Game - Programming', \n",
        "    3668: 'Health Informatics Technology', \n",
        "    3679: 'Game - Programming (FT)'}\n",
        "    "
      ]
    },
    {
      "cell_type": "code",
      "execution_count": 130,
      "metadata": {
        "id": "0kb4o8P-nKx5"
      },
      "outputs": [],
      "source": [
        "# - 2 mark\n",
        "# display the dictionary"
      ]
    },
    {
      "cell_type": "code",
      "execution_count": 131,
      "metadata": {
        "id": "Y_dRh6jJnKx5"
      },
      "outputs": [],
      "source": [
        "# - 4 mark\n",
        "# use the keys() and values() method to display the keys and values"
      ]
    },
    {
      "cell_type": "code",
      "execution_count": 132,
      "metadata": {
        "id": "Q6CElrrNnKx6"
      },
      "outputs": [],
      "source": [
        "# - 4 mark\n",
        "# Use the key-index technique to retrieve the name of program 3462\n",
        "# Use the get() method to retrieve the name of program 3462\n",
        "# It there a difference?"
      ]
    },
    {
      "cell_type": "markdown",
      "metadata": {
        "id": "QMtZVr4pnKx6"
      },
      "source": [
        "<h3> Using the enumerate function </h3>\n",
        "\n",
        "This function can enumerate both sequences like sets, tuples, strings and lists as well as mappings like dictionaries  \n",
        "The enumerate function returns a collection of tuples.  \n",
        "Each tuples is a pair comprising of the index and the value."
      ]
    },
    {
      "cell_type": "code",
      "execution_count": 133,
      "metadata": {
        "id": "5ZoKGvsunKx6"
      },
      "outputs": [],
      "source": [
        "# - 5 mark\n",
        "# use the enumerate function to print each collection: set, tuple, list and dict\n",
        "# You must print both the position and the item in the collection"
      ]
    },
    {
      "cell_type": "code",
      "execution_count": 134,
      "metadata": {
        "id": "s-GodgNAnKx6"
      },
      "outputs": [],
      "source": [
        "# - 5 mark\n",
        "# Use the items() method of the dict class to enumerate a dictionary\n",
        "# You must print the position, the key and the value"
      ]
    }
  ],
  "metadata": {
    "colab": {
      "provenance": []
    },
    "kernelspec": {
      "display_name": "Python 3",
      "language": "python",
      "name": "python3"
    },
    "language_info": {
      "codemirror_mode": {
        "name": "ipython",
        "version": 3
      },
      "file_extension": ".py",
      "mimetype": "text/x-python",
      "name": "python",
      "nbconvert_exporter": "python",
      "pygments_lexer": "ipython3",
      "version": "3.10.4"
    },
    "orig_nbformat": 4,
    "vscode": {
      "interpreter": {
        "hash": "3ad933181bd8a04b432d3370b9dc3b0662ad032c4dfaa4e4f1596c548f763858"
      }
    }
  },
  "nbformat": 4,
  "nbformat_minor": 0
}
